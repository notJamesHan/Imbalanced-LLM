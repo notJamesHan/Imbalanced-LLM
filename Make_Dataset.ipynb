{
  "nbformat": 4,
  "nbformat_minor": 0,
  "metadata": {
    "colab": {
      "provenance": [],
      "include_colab_link": true
    },
    "kernelspec": {
      "name": "python3",
      "display_name": "Python 3"
    },
    "language_info": {
      "name": "python"
    }
  },
  "cells": [
    {
      "cell_type": "markdown",
      "metadata": {
        "id": "view-in-github",
        "colab_type": "text"
      },
      "source": [
        "<a href=\"https://colab.research.google.com/github/notJamesHan/Imbalanced-LLM/blob/main/Make_Dataset.ipynb\" target=\"_parent\"><img src=\"https://colab.research.google.com/assets/colab-badge.svg\" alt=\"Open In Colab\"/></a>"
      ]
    },
    {
      "cell_type": "code",
      "execution_count": null,
      "metadata": {
        "id": "gk1fgJVwMJ7c",
        "colab": {
          "base_uri": "https://localhost:8080/"
        },
        "outputId": "651e09eb-3e7a-4bf0-fe32-1cdabec43f8a"
      },
      "outputs": [
        {
          "output_type": "stream",
          "name": "stdout",
          "text": [
            "Mounted at /content/drive\n"
          ]
        }
      ],
      "source": [
        "# Mount to Drive\n",
        "from google.colab import drive\n",
        "drive.mount('/content/drive')"
      ]
    },
    {
      "cell_type": "code",
      "source": [
        "# Run only one time.\n",
        "%cd drive/MyDrive/Colab\\ Notebooks/TabLLM"
      ],
      "metadata": {
        "colab": {
          "base_uri": "https://localhost:8080/"
        },
        "id": "KP2uouQvMzbg",
        "outputId": "68c7a381-2fbb-4c6f-aa77-0900a4a27457"
      },
      "execution_count": null,
      "outputs": [
        {
          "output_type": "stream",
          "name": "stdout",
          "text": [
            "/content/drive/MyDrive/Colab Notebooks/TabLLM\n"
          ]
        }
      ]
    },
    {
      "cell_type": "code",
      "source": [
        "!pip install -q -U datasets"
      ],
      "metadata": {
        "colab": {
          "base_uri": "https://localhost:8080/"
        },
        "id": "hQN02lLmNEgu",
        "outputId": "33c0fccc-a703-44dc-f7d8-0725b737b166"
      },
      "execution_count": null,
      "outputs": [
        {
          "output_type": "stream",
          "name": "stdout",
          "text": [
            "\u001b[2K     \u001b[90m━━━━━━━━━━━━━━━━━━━━━━━━━━━━━━━━━━━━━━━━\u001b[0m \u001b[32m542.0/542.0 kB\u001b[0m \u001b[31m6.3 MB/s\u001b[0m eta \u001b[36m0:00:00\u001b[0m\n",
            "\u001b[2K     \u001b[90m━━━━━━━━━━━━━━━━━━━━━━━━━━━━━━━━━━━━━━━━\u001b[0m \u001b[32m116.3/116.3 kB\u001b[0m \u001b[31m10.8 MB/s\u001b[0m eta \u001b[36m0:00:00\u001b[0m\n",
            "\u001b[2K     \u001b[90m━━━━━━━━━━━━━━━━━━━━━━━━━━━━━━━━━━━━━━━━\u001b[0m \u001b[32m194.1/194.1 kB\u001b[0m \u001b[31m12.3 MB/s\u001b[0m eta \u001b[36m0:00:00\u001b[0m\n",
            "\u001b[2K     \u001b[90m━━━━━━━━━━━━━━━━━━━━━━━━━━━━━━━━━━━━━━━━\u001b[0m \u001b[32m134.8/134.8 kB\u001b[0m \u001b[31m14.4 MB/s\u001b[0m eta \u001b[36m0:00:00\u001b[0m\n",
            "\u001b[2K     \u001b[90m━━━━━━━━━━━━━━━━━━━━━━━━━━━━━━━━━━━━━━━━\u001b[0m \u001b[32m388.9/388.9 kB\u001b[0m \u001b[31m10.8 MB/s\u001b[0m eta \u001b[36m0:00:00\u001b[0m\n",
            "\u001b[?25h"
          ]
        }
      ]
    },
    {
      "cell_type": "code",
      "source": [
        "!python create_external_datasets.py --dataset stroke"
      ],
      "metadata": {
        "colab": {
          "base_uri": "https://localhost:8080/"
        },
        "id": "Rx8EFmTMMnZw",
        "outputId": "71eab375-5bc5-4ca9-83dc-813964534bfe"
      },
      "execution_count": null,
      "outputs": [
        {
          "output_type": "stream",
          "name": "stdout",
          "text": [
            "2024-04-26 14:23:55.479931: E external/local_xla/xla/stream_executor/cuda/cuda_dnn.cc:9261] Unable to register cuDNN factory: Attempting to register factory for plugin cuDNN when one has already been registered\n",
            "2024-04-26 14:23:55.479991: E external/local_xla/xla/stream_executor/cuda/cuda_fft.cc:607] Unable to register cuFFT factory: Attempting to register factory for plugin cuFFT when one has already been registered\n",
            "2024-04-26 14:23:55.481810: E external/local_xla/xla/stream_executor/cuda/cuda_blas.cc:1515] Unable to register cuBLAS factory: Attempting to register factory for plugin cuBLAS when one has already been registered\n",
            "2024-04-26 14:23:57.491095: W tensorflow/compiler/tf2tensorrt/utils/py_utils.cc:38] TF-TRT Warning: Could not find TensorRT\n",
            "INFO:__main__:Generate dataset stroke.\n",
            "The Age of the patient is ${age}. The Gender of the patient is ${gender}. The patient ${hypertension} hypertension. The patient ${heart_disease} heart disease. The patient ${ever_married}. The patient ${work_type}. The patient resides in a ${Residence_type} area. The average glucose level in blood is ${avg_glucose_level}. The body mass index is ${bmi}. The patient ${smoking_status}. \n",
            "Only consider dataset range between 0 and 5110 (total: 1)\n",
            "----\n",
            "The Age of the patient is 67.0. The Gender of the patient is Male. The patient does not have hypertension. The patient have heart disease. The patient has married. The patient has a private job. The patient resides in a urban area. The average glucose level in blood is 228.69. The body mass index is 36.6. The patient has formerly smoked.\n",
            "----\n",
            "The Age of the patient is 61.0. The Gender of the patient is Female. The patient does not have hypertension. The patient does not have heart disease. The patient has married. The patient is self employed. The patient resides in a rural area. The average glucose level in blood is 202.21. The body mass index is. The patient has never smoked.\n",
            "----\n",
            "The Age of the patient is 80.0. The Gender of the patient is Male. The patient does not have hypertension. The patient have heart disease. The patient has married. The patient has a private job. The patient resides in a rural area. The average glucose level in blood is 105.92. The body mass index is 32.5. The patient has never smoked.\n",
            "----\n",
            "The Age of the patient is 49.0. The Gender of the patient is Female. The patient does not have hypertension. The patient does not have heart disease. The patient has married. The patient has a private job. The patient resides in a urban area. The average glucose level in blood is 171.23. The body mass index is 34.4. The patient smokes.\n",
            "----\n",
            "The Age of the patient is 79.0. The Gender of the patient is Female. The patient have hypertension. The patient does not have heart disease. The patient has married. The patient is self employed. The patient resides in a rural area. The average glucose level in blood is 174.12. The body mass index is 24.0. The patient has never smoked.\n",
            "----\n",
            "The Age of the patient is 81.0. The Gender of the patient is Male. The patient does not have hypertension. The patient does not have heart disease. The patient has married. The patient has a private job. The patient resides in a urban area. The average glucose level in blood is 186.21. The body mass index is 29.0. The patient has formerly smoked.\n",
            "----\n",
            "The Age of the patient is 74.0. The Gender of the patient is Male. The patient have hypertension. The patient have heart disease. The patient has married. The patient has a private job. The patient resides in a rural area. The average glucose level in blood is 70.09. The body mass index is 27.4. The patient has never smoked.\n",
            "----\n",
            "The Age of the patient is 69.0. The Gender of the patient is Female. The patient does not have hypertension. The patient does not have heart disease. The patient never married. The patient has a private job. The patient resides in a urban area. The average glucose level in blood is 94.39. The body mass index is 22.8. The patient has never smoked.\n",
            "----\n",
            "The Age of the patient is 59.0. The Gender of the patient is Female. The patient does not have hypertension. The patient does not have heart disease. The patient has married. The patient has a private job. The patient resides in a rural area. The average glucose level in blood is 76.15. The body mass index is. The patient smoking status is not available.\n",
            "----\n",
            "The Age of the patient is 78.0. The Gender of the patient is Female. The patient does not have hypertension. The patient does not have heart disease. The patient has married. The patient has a private job. The patient resides in a urban area. The average glucose level in blood is 58.57. The body mass index is 24.2. The patient smoking status is not available.\n",
            "INFO:__main__:Store generated datasets to /content/drive/MyDrive/Colab Notebooks/TabLLM/datasets_serialized/dataset-generation-20240426-142358/stroke\n",
            "INFO:__main__:\tn=5110, feats=2, labels={1: 249, 0: 4861}\n",
            "Saving the dataset (1/1 shards): 100% 5110/5110 [00:00<00:00, 237328.43 examples/s]\n"
          ]
        }
      ]
    }
  ]
}