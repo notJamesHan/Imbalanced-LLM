{
  "nbformat": 4,
  "nbformat_minor": 0,
  "metadata": {
    "colab": {
      "provenance": [],
      "mount_file_id": "1Gob1En1ws5UN0W8vwz2oMGozkg5aCx_I",
      "authorship_tag": "ABX9TyO1MnxfXzLmVYN2THqyIEdc",
      "include_colab_link": true
    },
    "kernelspec": {
      "name": "python3",
      "display_name": "Python 3"
    },
    "language_info": {
      "name": "python"
    }
  },
  "cells": [
    {
      "cell_type": "markdown",
      "metadata": {
        "id": "view-in-github",
        "colab_type": "text"
      },
      "source": [
        "<a href=\"https://colab.research.google.com/github/notJamesHan/Imbalanced-LLM/blob/enc%2F3-test-tabllm-modified-code/Make_Dataset.ipynb\" target=\"_parent\"><img src=\"https://colab.research.google.com/assets/colab-badge.svg\" alt=\"Open In Colab\"/></a>"
      ]
    },
    {
      "cell_type": "code",
      "execution_count": 1,
      "metadata": {
        "id": "gk1fgJVwMJ7c",
        "colab": {
          "base_uri": "https://localhost:8080/"
        },
        "outputId": "0e2cca60-badb-4577-cc81-0fb8f219c5ca"
      },
      "outputs": [
        {
          "output_type": "stream",
          "name": "stdout",
          "text": [
            "Drive already mounted at /content/drive; to attempt to forcibly remount, call drive.mount(\"/content/drive\", force_remount=True).\n"
          ]
        }
      ],
      "source": [
        "# Mount to Drive\n",
        "from google.colab import drive\n",
        "drive.mount('/content/drive')"
      ]
    },
    {
      "cell_type": "code",
      "source": [
        "# Run only one time.\n",
        "%cd drive/MyDrive/Colab\\ Notebooks/TabLLM"
      ],
      "metadata": {
        "colab": {
          "base_uri": "https://localhost:8080/"
        },
        "id": "KP2uouQvMzbg",
        "outputId": "cd4195c4-9125-4784-9657-3bd1b9e8acad"
      },
      "execution_count": 2,
      "outputs": [
        {
          "output_type": "stream",
          "name": "stdout",
          "text": [
            "/content/drive/MyDrive/Colab Notebooks/TabLLM\n"
          ]
        }
      ]
    },
    {
      "cell_type": "code",
      "source": [
        "!pip install -q -U datasets"
      ],
      "metadata": {
        "colab": {
          "base_uri": "https://localhost:8080/"
        },
        "id": "hQN02lLmNEgu",
        "outputId": "5ad72e31-70f4-40df-93f4-77291e0745fd"
      },
      "execution_count": 4,
      "outputs": [
        {
          "output_type": "stream",
          "name": "stdout",
          "text": [
            "\u001b[2K     \u001b[90m━━━━━━━━━━━━━━━━━━━━━━━━━━━━━━━━━━━━━━━━\u001b[0m \u001b[32m542.0/542.0 kB\u001b[0m \u001b[31m6.9 MB/s\u001b[0m eta \u001b[36m0:00:00\u001b[0m\n",
            "\u001b[2K     \u001b[90m━━━━━━━━━━━━━━━━━━━━━━━━━━━━━━━━━━━━━━━━\u001b[0m \u001b[32m116.3/116.3 kB\u001b[0m \u001b[31m12.0 MB/s\u001b[0m eta \u001b[36m0:00:00\u001b[0m\n",
            "\u001b[2K     \u001b[90m━━━━━━━━━━━━━━━━━━━━━━━━━━━━━━━━━━━━━━━━\u001b[0m \u001b[32m194.1/194.1 kB\u001b[0m \u001b[31m19.3 MB/s\u001b[0m eta \u001b[36m0:00:00\u001b[0m\n",
            "\u001b[2K     \u001b[90m━━━━━━━━━━━━━━━━━━━━━━━━━━━━━━━━━━━━━━━━\u001b[0m \u001b[32m134.8/134.8 kB\u001b[0m \u001b[31m14.1 MB/s\u001b[0m eta \u001b[36m0:00:00\u001b[0m\n",
            "\u001b[2K     \u001b[90m━━━━━━━━━━━━━━━━━━━━━━━━━━━━━━━━━━━━━━━━\u001b[0m \u001b[32m388.9/388.9 kB\u001b[0m \u001b[31m32.9 MB/s\u001b[0m eta \u001b[36m0:00:00\u001b[0m\n",
            "\u001b[?25h"
          ]
        }
      ]
    },
    {
      "cell_type": "code",
      "source": [
        "!python create_external_datasets.py --dataset heart"
      ],
      "metadata": {
        "colab": {
          "base_uri": "https://localhost:8080/"
        },
        "id": "Rx8EFmTMMnZw",
        "outputId": "4836e323-5da3-4068-8e9d-afd8db71d3ac"
      },
      "execution_count": 11,
      "outputs": [
        {
          "output_type": "stream",
          "name": "stdout",
          "text": [
            "2024-04-24 18:00:38.586934: E external/local_xla/xla/stream_executor/cuda/cuda_dnn.cc:9261] Unable to register cuDNN factory: Attempting to register factory for plugin cuDNN when one has already been registered\n",
            "2024-04-24 18:00:38.587007: E external/local_xla/xla/stream_executor/cuda/cuda_fft.cc:607] Unable to register cuFFT factory: Attempting to register factory for plugin cuFFT when one has already been registered\n",
            "2024-04-24 18:00:38.589013: E external/local_xla/xla/stream_executor/cuda/cuda_blas.cc:1515] Unable to register cuBLAS factory: Attempting to register factory for plugin cuBLAS when one has already been registered\n",
            "2024-04-24 18:00:40.183230: W tensorflow/compiler/tf2tensorrt/utils/py_utils.cc:38] TF-TRT Warning: Could not find TensorRT\n",
            "INFO:__main__:Generate dataset heart.\n",
            "Only consider dataset range between 0 and 918 (total: 918)\n",
            "----\n",
            "The Age of the patient is 40. The Sex of the patient is male. The Chest pain type is atypical angina. The Resting blood pressure is 140. The Serum cholesterol is 289. The Fasting blood sugar > 120 mg/dl is no. The Resting electrocardiogram results is normal. The Maximum heart rate achieved is 172. The Exercise-induced angina is no. The ST depression induced by exercise relative to rest is 0.0. The Slope of the peak exercise ST segment is upsloping.\n",
            "----\n",
            "The Age of the patient is 49. The Sex of the patient is female. The Chest pain type is non-anginal pain. The Resting blood pressure is 160. The Serum cholesterol is 180. The Fasting blood sugar > 120 mg/dl is no. The Resting electrocardiogram results is normal. The Maximum heart rate achieved is 156. The Exercise-induced angina is no. The ST depression induced by exercise relative to rest is 1.0. The Slope of the peak exercise ST segment is flat.\n",
            "----\n",
            "The Age of the patient is 37. The Sex of the patient is male. The Chest pain type is atypical angina. The Resting blood pressure is 130. The Serum cholesterol is 283. The Fasting blood sugar > 120 mg/dl is no. The Resting electrocardiogram results is ST-T wave abnormality. The Maximum heart rate achieved is 98. The Exercise-induced angina is no. The ST depression induced by exercise relative to rest is 0.0. The Slope of the peak exercise ST segment is upsloping.\n",
            "----\n",
            "The Age of the patient is 48. The Sex of the patient is female. The Chest pain type is asymptomatic. The Resting blood pressure is 138. The Serum cholesterol is 214. The Fasting blood sugar > 120 mg/dl is no. The Resting electrocardiogram results is normal. The Maximum heart rate achieved is 108. The Exercise-induced angina is yes. The ST depression induced by exercise relative to rest is 1.5. The Slope of the peak exercise ST segment is flat.\n",
            "----\n",
            "The Age of the patient is 54. The Sex of the patient is male. The Chest pain type is non-anginal pain. The Resting blood pressure is 150. The Serum cholesterol is 195. The Fasting blood sugar > 120 mg/dl is no. The Resting electrocardiogram results is normal. The Maximum heart rate achieved is 122. The Exercise-induced angina is no. The ST depression induced by exercise relative to rest is 0.0. The Slope of the peak exercise ST segment is upsloping.\n",
            "----\n",
            "The Age of the patient is 39. The Sex of the patient is male. The Chest pain type is non-anginal pain. The Resting blood pressure is 120. The Serum cholesterol is 339. The Fasting blood sugar > 120 mg/dl is no. The Resting electrocardiogram results is normal. The Maximum heart rate achieved is 170. The Exercise-induced angina is no. The ST depression induced by exercise relative to rest is 0.0. The Slope of the peak exercise ST segment is upsloping.\n",
            "----\n",
            "The Age of the patient is 45. The Sex of the patient is female. The Chest pain type is atypical angina. The Resting blood pressure is 130. The Serum cholesterol is 237. The Fasting blood sugar > 120 mg/dl is no. The Resting electrocardiogram results is normal. The Maximum heart rate achieved is 170. The Exercise-induced angina is no. The ST depression induced by exercise relative to rest is 0.0. The Slope of the peak exercise ST segment is upsloping.\n",
            "----\n",
            "The Age of the patient is 54. The Sex of the patient is male. The Chest pain type is atypical angina. The Resting blood pressure is 110. The Serum cholesterol is 208. The Fasting blood sugar > 120 mg/dl is no. The Resting electrocardiogram results is normal. The Maximum heart rate achieved is 142. The Exercise-induced angina is no. The ST depression induced by exercise relative to rest is 0.0. The Slope of the peak exercise ST segment is upsloping.\n",
            "----\n",
            "The Age of the patient is 37. The Sex of the patient is male. The Chest pain type is asymptomatic. The Resting blood pressure is 140. The Serum cholesterol is 207. The Fasting blood sugar > 120 mg/dl is no. The Resting electrocardiogram results is normal. The Maximum heart rate achieved is 130. The Exercise-induced angina is yes. The ST depression induced by exercise relative to rest is 1.5. The Slope of the peak exercise ST segment is flat.\n",
            "----\n",
            "The Age of the patient is 48. The Sex of the patient is female. The Chest pain type is atypical angina. The Resting blood pressure is 120. The Serum cholesterol is 284. The Fasting blood sugar > 120 mg/dl is no. The Resting electrocardiogram results is normal. The Maximum heart rate achieved is 120. The Exercise-induced angina is no. The ST depression induced by exercise relative to rest is 0.0. The Slope of the peak exercise ST segment is upsloping.\n",
            "INFO:__main__:Store generated datasets to /content/drive/MyDrive/Colab Notebooks/TabLLM/datasets_serialized/dataset-generation-20240424-180041/heart\n",
            "INFO:__main__:\tn=918, feats=2, labels={0: 410, 1: 508}\n",
            "Saving the dataset (1/1 shards): 100% 918/918 [00:00<00:00, 53225.30 examples/s]\n"
          ]
        }
      ]
    }
  ]
}