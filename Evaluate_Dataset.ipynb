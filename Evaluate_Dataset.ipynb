{
  "nbformat": 4,
  "nbformat_minor": 0,
  "metadata": {
    "colab": {
      "provenance": [],
      "authorship_tag": "ABX9TyMpGIlPqhRTZa/ZpiKv+pmT",
      "include_colab_link": true
    },
    "kernelspec": {
      "name": "python3",
      "display_name": "Python 3"
    },
    "language_info": {
      "name": "python"
    }
  },
  "cells": [
    {
      "cell_type": "markdown",
      "metadata": {
        "id": "view-in-github",
        "colab_type": "text"
      },
      "source": [
        "<a href=\"https://colab.research.google.com/github/notJamesHan/Imbalanced-LLM/blob/main/Evaluate_Dataset.ipynb\" target=\"_parent\"><img src=\"https://colab.research.google.com/assets/colab-badge.svg\" alt=\"Open In Colab\"/></a>"
      ]
    },
    {
      "cell_type": "code",
      "execution_count": 15,
      "metadata": {
        "colab": {
          "base_uri": "https://localhost:8080/"
        },
        "id": "aVMWrT0nHrjS",
        "outputId": "7406973a-2083-4a63-9967-340c57a8ef46"
      },
      "outputs": [
        {
          "output_type": "stream",
          "name": "stdout",
          "text": [
            "Drive already mounted at /content/drive; to attempt to forcibly remount, call drive.mount(\"/content/drive\", force_remount=True).\n"
          ]
        }
      ],
      "source": [
        "# Mount to Drive\n",
        "from google.colab import drive\n",
        "drive.mount('/content/drive')"
      ]
    },
    {
      "cell_type": "code",
      "source": [
        "# Run only one time.\n",
        "%cd drive/MyDrive/Colab\\ Notebooks/TabLLM"
      ],
      "metadata": {
        "colab": {
          "base_uri": "https://localhost:8080/"
        },
        "id": "CvE0yYvHH15v",
        "outputId": "52400375-815e-4cb8-8f31-898afd95c398"
      },
      "execution_count": 16,
      "outputs": [
        {
          "output_type": "stream",
          "name": "stdout",
          "text": [
            "[Errno 2] No such file or directory: 'drive/MyDrive/Colab Notebooks/TabLLM'\n",
            "/content/drive/MyDrive/Colab Notebooks/TabLLM\n"
          ]
        }
      ]
    },
    {
      "cell_type": "code",
      "source": [
        "!pip install -q -U datasets\n",
        "!pip install -q -U tabpfn"
      ],
      "metadata": {
        "id": "K7CR4XjKIJJf"
      },
      "execution_count": 17,
      "outputs": []
    },
    {
      "cell_type": "code",
      "source": [
        "!python evaluate_external_dataset.py"
      ],
      "metadata": {
        "colab": {
          "base_uri": "https://localhost:8080/"
        },
        "id": "t9i7PYbaH-xU",
        "outputId": "f4a2ccac-7ca9-4fbb-c0ff-ec7095385bad"
      },
      "execution_count": 18,
      "outputs": [
        {
          "output_type": "stream",
          "name": "stdout",
          "text": [
            "Evaluate dataset stroke with model lr and encoding one-hot.\n",
            "Original columns: ['id', 'gender', 'age', 'hypertension', 'heart_disease', 'ever_married', 'work_type', 'Residence_type', 'avg_glucose_level', 'bmi', 'smoking_status', 'label']\n",
            "Flattening the indices: 100% 4088/4088 [00:00<00:00, 10379.76 examples/s]\n",
            "Flattening the indices: 100% 1022/1022 [00:00<00:00, 27503.99 examples/s]\n",
            "prepared columns: ['id', 'age', 'hypertension', 'heart_disease', 'avg_glucose_level', 'bmi', 'label', 'idx', 'gender_Female', 'gender_Male', 'gender_Other', 'ever_married_No', 'ever_married_Yes', 'work_type_Govt_job', 'work_type_Never_worked', 'work_type_Private', 'work_type_Self-employed', 'work_type_children', 'Residence_type_Rural', 'Residence_type_Urban', 'smoking_status_Unknown', 'smoking_status_formerly smoked', 'smoking_status_never smoked', 'smoking_status_smokes']\n",
            "Via sampling with replacement old label distribution {0: 3891, 1: 197} to new {0: 2, 1: 2}\n",
            "\t42: {'label': 0, 'idx': 3687}; {'label': 1, 'idx': 391}; {'label': 0, 'idx': 3335}; {'label': 1, 'idx': 2072}\n",
            "Filter: 100% 4088/4088 [00:00<00:00, 4689.86 examples/s]\n",
            "\tUse 4 train, 0 valid, and 1022 test examples.\n",
            "Manually reduced folds to 2 since this is maximum number of labeled examples.\n",
            "/usr/local/lib/python3.10/dist-packages/joblib/externals/loky/backend/fork_exec.py:38: RuntimeWarning: os.fork() was called. os.fork() is incompatible with multithreaded code, and JAX is multithreaded, so this will likely lead to a deadlock.\n",
            "  pid = os.fork()\n",
            "/usr/local/lib/python3.10/dist-packages/joblib/externals/loky/backend/fork_exec.py:38: RuntimeWarning: os.fork() was called. os.fork() is incompatible with multithreaded code, and JAX is multithreaded, so this will likely lead to a deadlock.\n",
            "  pid = os.fork()\n",
            "Via sampling with replacement old label distribution {0: 3891, 1: 197} to new {0: 4, 1: 4}\n",
            "\t42: {'label': 0, 'idx': 3687}; {'label': 1, 'idx': 1611}; {'label': 0, 'idx': 3335}; {'label': 1, 'idx': 539}; {'label': 0, 'idx': 895}; {'label': 1, 'idx': 2342}; {'label': 0, 'idx': 1351}; {'label': 1, 'idx': 3900}\n",
            "Filter: 100% 4088/4088 [00:00<00:00, 5959.52 examples/s]\n",
            "\tUse 8 train, 0 valid, and 1022 test examples.\n",
            "Via sampling with replacement old label distribution {0: 3891, 1: 197} to new {0: 8, 1: 8}\n",
            "\t42: {'label': 0, 'idx': 3335}; {'label': 0, 'idx': 3687}; {'label': 0, 'idx': 1142}; {'label': 1, 'idx': 2275}; {'label': 1, 'idx': 2201}; {'label': 1, 'idx': 1918}; {'label': 1, 'idx': 2274}; {'label': 1, 'idx': 2624}\n",
            "Filter: 100% 4088/4088 [00:01<00:00, 3166.90 examples/s]\n",
            "\tUse 16 train, 0 valid, and 1022 test examples.\n",
            "Via sampling with replacement old label distribution {0: 3891, 1: 197} to new {0: 16, 1: 16}\n",
            "\t42: {'label': 1, 'idx': 539}; {'label': 0, 'idx': 3622}; {'label': 1, 'idx': 3250}; {'label': 1, 'idx': 2275}; {'label': 0, 'idx': 1714}; {'label': 0, 'idx': 2271}; {'label': 1, 'idx': 3303}; {'label': 1, 'idx': 928}\n",
            "Filter: 100% 4088/4088 [00:00<00:00, 5451.73 examples/s]\n",
            "\tUse 32 train, 0 valid, and 1022 test examples.\n",
            "Via sampling with replacement old label distribution {0: 3891, 1: 197} to new {0: 32, 1: 32}\n",
            "\t42: {'label': 1, 'idx': 1639}; {'label': 1, 'idx': 390}; {'label': 0, 'idx': 3335}; {'label': 1, 'idx': 1204}; {'label': 0, 'idx': 1142}; {'label': 1, 'idx': 1379}; {'label': 0, 'idx': 3332}; {'label': 0, 'idx': 339}\n",
            "Filter: 100% 4088/4088 [00:00<00:00, 4965.24 examples/s]\n",
            "\tUse 64 train, 0 valid, and 1022 test examples.\n",
            "Via sampling with replacement old label distribution {0: 3891, 1: 197} to new {0: 64, 1: 64}\n",
            "\t42: {'label': 0, 'idx': 1323}; {'label': 0, 'idx': 1128}; {'label': 0, 'idx': 133}; {'label': 0, 'idx': 1236}; {'label': 1, 'idx': 390}; {'label': 0, 'idx': 3021}; {'label': 1, 'idx': 390}; {'label': 1, 'idx': 1833}\n",
            "Filter: 100% 4088/4088 [00:00<00:00, 4244.23 examples/s]\n",
            "\tUse 128 train, 0 valid, and 1022 test examples.\n",
            "Via sampling with replacement old label distribution {0: 3891, 1: 197} to new {0: 128, 1: 128}\n",
            "\t42: {'label': 1, 'idx': 2131}; {'label': 0, 'idx': 3963}; {'label': 0, 'idx': 3155}; {'label': 1, 'idx': 1708}; {'label': 0, 'idx': 4014}; {'label': 1, 'idx': 745}; {'label': 1, 'idx': 1821}; {'label': 1, 'idx': 219}\n",
            "Filter: 100% 4088/4088 [00:01<00:00, 2727.10 examples/s]\n",
            "\tUse 256 train, 0 valid, and 1022 test examples.\n",
            "Via sampling with replacement old label distribution {0: 3891, 1: 197} to new {0: 256, 1: 256}\n",
            "\t42: {'label': 1, 'idx': 2072}; {'label': 1, 'idx': 1854}; {'label': 1, 'idx': 1296}; {'label': 0, 'idx': 2286}; {'label': 1, 'idx': 3674}; {'label': 0, 'idx': 65}; {'label': 0, 'idx': 1756}; {'label': 1, 'idx': 1413}\n",
            "Filter: 100% 4088/4088 [00:02<00:00, 1862.19 examples/s]\n",
            "\tUse 512 train, 0 valid, and 1022 test examples.\n",
            "Flattening the indices: 100% 4088/4088 [00:00<00:00, 6247.50 examples/s]\n",
            "Flattening the indices: 100% 1022/1022 [00:00<00:00, 22320.35 examples/s]\n",
            "Via sampling with replacement old label distribution {0: 3887, 1: 201} to new {0: 2, 1: 2}\n",
            "\t1024: {'label': 0, 'idx': 2079}; {'label': 1, 'idx': 2009}; {'label': 0, 'idx': 963}; {'label': 1, 'idx': 2160}\n",
            "Filter: 100% 4088/4088 [00:01<00:00, 3209.07 examples/s]\n",
            "\tUse 4 train, 0 valid, and 1022 test examples.\n",
            "Manually reduced folds to 2 since this is maximum number of labeled examples.\n",
            "Via sampling with replacement old label distribution {0: 3887, 1: 201} to new {0: 4, 1: 4}\n",
            "\t1024: {'label': 0, 'idx': 2079}; {'label': 0, 'idx': 2800}; {'label': 1, 'idx': 1565}; {'label': 1, 'idx': 1728}; {'label': 1, 'idx': 2160}; {'label': 1, 'idx': 2009}; {'label': 0, 'idx': 963}; {'label': 0, 'idx': 2671}\n",
            "Filter: 100% 4088/4088 [00:00<00:00, 4957.30 examples/s]\n",
            "\tUse 8 train, 0 valid, and 1022 test examples.\n",
            "Via sampling with replacement old label distribution {0: 3887, 1: 201} to new {0: 8, 1: 8}\n",
            "\t1024: {'label': 0, 'idx': 2804}; {'label': 1, 'idx': 1352}; {'label': 0, 'idx': 2374}; {'label': 0, 'idx': 910}; {'label': 0, 'idx': 2800}; {'label': 0, 'idx': 2671}; {'label': 1, 'idx': 1565}; {'label': 1, 'idx': 143}\n",
            "Filter: 100% 4088/4088 [00:00<00:00, 5097.21 examples/s]\n",
            "\tUse 16 train, 0 valid, and 1022 test examples.\n",
            "Via sampling with replacement old label distribution {0: 3887, 1: 201} to new {0: 16, 1: 16}\n",
            "\t1024: {'label': 0, 'idx': 3417}; {'label': 0, 'idx': 2804}; {'label': 1, 'idx': 1437}; {'label': 0, 'idx': 502}; {'label': 1, 'idx': 437}; {'label': 0, 'idx': 910}; {'label': 1, 'idx': 507}; {'label': 0, 'idx': 2503}\n",
            "Filter: 100% 4088/4088 [00:01<00:00, 2416.85 examples/s]\n",
            "\tUse 32 train, 0 valid, and 1022 test examples.\n",
            "Via sampling with replacement old label distribution {0: 3887, 1: 201} to new {0: 32, 1: 32}\n",
            "\t1024: {'label': 0, 'idx': 996}; {'label': 0, 'idx': 1416}; {'label': 0, 'idx': 2800}; {'label': 0, 'idx': 502}; {'label': 0, 'idx': 4026}; {'label': 1, 'idx': 1453}; {'label': 0, 'idx': 2079}; {'label': 0, 'idx': 50}\n",
            "Filter: 100% 4088/4088 [00:00<00:00, 4275.09 examples/s]\n",
            "\tUse 64 train, 0 valid, and 1022 test examples.\n",
            "Via sampling with replacement old label distribution {0: 3887, 1: 201} to new {0: 64, 1: 64}\n",
            "\t1024: {'label': 0, 'idx': 1429}; {'label': 0, 'idx': 910}; {'label': 1, 'idx': 3754}; {'label': 1, 'idx': 952}; {'label': 0, 'idx': 695}; {'label': 0, 'idx': 963}; {'label': 1, 'idx': 437}; {'label': 0, 'idx': 2804}\n",
            "Filter: 100% 4088/4088 [00:01<00:00, 3583.95 examples/s]\n",
            "\tUse 128 train, 0 valid, and 1022 test examples.\n",
            "Via sampling with replacement old label distribution {0: 3887, 1: 201} to new {0: 128, 1: 128}\n",
            "\t1024: {'label': 0, 'idx': 1350}; {'label': 0, 'idx': 610}; {'label': 1, 'idx': 3759}; {'label': 1, 'idx': 123}; {'label': 1, 'idx': 2347}; {'label': 0, 'idx': 539}; {'label': 0, 'idx': 3719}; {'label': 0, 'idx': 731}\n",
            "Filter: 100% 4088/4088 [00:01<00:00, 3328.82 examples/s]\n",
            "\tUse 256 train, 0 valid, and 1022 test examples.\n",
            "Via sampling with replacement old label distribution {0: 3887, 1: 201} to new {0: 256, 1: 256}\n",
            "\t1024: {'label': 0, 'idx': 1610}; {'label': 1, 'idx': 1464}; {'label': 0, 'idx': 3352}; {'label': 0, 'idx': 1350}; {'label': 1, 'idx': 805}; {'label': 0, 'idx': 1038}; {'label': 0, 'idx': 1416}; {'label': 1, 'idx': 2739}\n",
            "Filter: 100% 4088/4088 [00:03<00:00, 1144.58 examples/s]\n",
            "\tUse 512 train, 0 valid, and 1022 test examples.\n",
            "Flattening the indices: 100% 4088/4088 [00:00<00:00, 5683.26 examples/s]\n",
            "Flattening the indices: 100% 1022/1022 [00:00<00:00, 18685.80 examples/s]\n",
            "Via sampling with replacement old label distribution {0: 3879, 1: 209} to new {0: 2, 1: 2}\n",
            "\t0: {'label': 1, 'idx': 2200}; {'label': 1, 'idx': 3713}; {'label': 0, 'idx': 2750}; {'label': 0, 'idx': 2881}\n",
            "Filter: 100% 4088/4088 [00:00<00:00, 5489.18 examples/s]\n",
            "\tUse 4 train, 0 valid, and 1022 test examples.\n",
            "Manually reduced folds to 2 since this is maximum number of labeled examples.\n",
            "Via sampling with replacement old label distribution {0: 3879, 1: 209} to new {0: 4, 1: 4}\n",
            "\t0: {'label': 1, 'idx': 1916}; {'label': 0, 'idx': 1751}; {'label': 0, 'idx': 2750}; {'label': 1, 'idx': 210}; {'label': 0, 'idx': 3445}; {'label': 0, 'idx': 2881}; {'label': 1, 'idx': 3910}; {'label': 1, 'idx': 1262}\n",
            "Filter: 100% 4088/4088 [00:00<00:00, 5582.90 examples/s]\n",
            "\tUse 8 train, 0 valid, and 1022 test examples.\n",
            "Via sampling with replacement old label distribution {0: 3879, 1: 209} to new {0: 8, 1: 8}\n",
            "\t0: {'label': 0, 'idx': 2750}; {'label': 0, 'idx': 1830}; {'label': 1, 'idx': 210}; {'label': 1, 'idx': 345}; {'label': 1, 'idx': 1598}; {'label': 0, 'idx': 884}; {'label': 0, 'idx': 1751}; {'label': 1, 'idx': 2701}\n",
            "Filter: 100% 4088/4088 [00:01<00:00, 3021.87 examples/s]\n",
            "\tUse 16 train, 0 valid, and 1022 test examples.\n",
            "Via sampling with replacement old label distribution {0: 3879, 1: 209} to new {0: 16, 1: 16}\n",
            "\t0: {'label': 0, 'idx': 1878}; {'label': 1, 'idx': 3303}; {'label': 0, 'idx': 296}; {'label': 0, 'idx': 1751}; {'label': 1, 'idx': 1598}; {'label': 0, 'idx': 3318}; {'label': 1, 'idx': 1295}; {'label': 1, 'idx': 412}\n",
            "Filter: 100% 4088/4088 [00:00<00:00, 4955.64 examples/s]\n",
            "\tUse 32 train, 0 valid, and 1022 test examples.\n",
            "Via sampling with replacement old label distribution {0: 3879, 1: 209} to new {0: 32, 1: 32}\n",
            "\t0: {'label': 1, 'idx': 3212}; {'label': 0, 'idx': 2240}; {'label': 1, 'idx': 2817}; {'label': 1, 'idx': 2415}; {'label': 1, 'idx': 3919}; {'label': 1, 'idx': 4059}; {'label': 0, 'idx': 2051}; {'label': 1, 'idx': 3349}\n",
            "Filter: 100% 4088/4088 [00:00<00:00, 4116.47 examples/s]\n",
            "\tUse 64 train, 0 valid, and 1022 test examples.\n",
            "Via sampling with replacement old label distribution {0: 3879, 1: 209} to new {0: 64, 1: 64}\n",
            "\t0: {'label': 0, 'idx': 3053}; {'label': 0, 'idx': 3866}; {'label': 1, 'idx': 2232}; {'label': 0, 'idx': 3520}; {'label': 0, 'idx': 1094}; {'label': 1, 'idx': 3417}; {'label': 1, 'idx': 31}; {'label': 1, 'idx': 2271}\n",
            "Filter: 100% 4088/4088 [00:00<00:00, 4205.40 examples/s]\n",
            "\tUse 128 train, 0 valid, and 1022 test examples.\n",
            "Via sampling with replacement old label distribution {0: 3879, 1: 209} to new {0: 128, 1: 128}\n",
            "\t0: {'label': 1, 'idx': 1479}; {'label': 0, 'idx': 1426}; {'label': 1, 'idx': 749}; {'label': 0, 'idx': 3177}; {'label': 1, 'idx': 3666}; {'label': 1, 'idx': 1295}; {'label': 0, 'idx': 1986}; {'label': 1, 'idx': 231}\n",
            "Filter: 100% 4088/4088 [00:01<00:00, 3310.34 examples/s]\n",
            "\tUse 256 train, 0 valid, and 1022 test examples.\n",
            "Via sampling with replacement old label distribution {0: 3879, 1: 209} to new {0: 256, 1: 256}\n",
            "\t0: {'label': 1, 'idx': 923}; {'label': 0, 'idx': 820}; {'label': 0, 'idx': 1980}; {'label': 0, 'idx': 696}; {'label': 1, 'idx': 2919}; {'label': 0, 'idx': 94}; {'label': 0, 'idx': 3481}; {'label': 0, 'idx': 3737}\n",
            "Filter: 100% 4088/4088 [00:01<00:00, 2244.12 examples/s]\n",
            "\tUse 512 train, 0 valid, and 1022 test examples.\n",
            "Flattening the indices: 100% 4088/4088 [00:00<00:00, 7219.20 examples/s]\n",
            "Flattening the indices: 100% 1022/1022 [00:00<00:00, 30699.33 examples/s]\n",
            "Via sampling with replacement old label distribution {0: 3885, 1: 203} to new {0: 2, 1: 2}\n",
            "\t1: {'label': 1, 'idx': 1433}; {'label': 1, 'idx': 2802}; {'label': 0, 'idx': 1120}; {'label': 0, 'idx': 255}\n",
            "Filter: 100% 4088/4088 [00:00<00:00, 5855.49 examples/s]\n",
            "\tUse 4 train, 0 valid, and 1022 test examples.\n",
            "Manually reduced folds to 2 since this is maximum number of labeled examples.\n",
            "Via sampling with replacement old label distribution {0: 3885, 1: 203} to new {0: 4, 1: 4}\n",
            "\t1: {'label': 1, 'idx': 3897}; {'label': 0, 'idx': 1157}; {'label': 0, 'idx': 255}; {'label': 1, 'idx': 1589}; {'label': 0, 'idx': 1120}; {'label': 1, 'idx': 2788}; {'label': 0, 'idx': 4041}; {'label': 1, 'idx': 2677}\n",
            "Filter: 100% 4088/4088 [00:01<00:00, 3127.82 examples/s]\n",
            "\tUse 8 train, 0 valid, and 1022 test examples.\n",
            "Via sampling with replacement old label distribution {0: 3885, 1: 203} to new {0: 8, 1: 8}\n",
            "\t1: {'label': 0, 'idx': 4041}; {'label': 1, 'idx': 395}; {'label': 0, 'idx': 3048}; {'label': 0, 'idx': 1157}; {'label': 0, 'idx': 3911}; {'label': 1, 'idx': 2590}; {'label': 0, 'idx': 956}; {'label': 0, 'idx': 255}\n",
            "Filter: 100% 4088/4088 [00:00<00:00, 5946.14 examples/s]\n",
            "\tUse 16 train, 0 valid, and 1022 test examples.\n",
            "Via sampling with replacement old label distribution {0: 3885, 1: 203} to new {0: 16, 1: 16}\n",
            "\t1: {'label': 1, 'idx': 1704}; {'label': 0, 'idx': 4041}; {'label': 1, 'idx': 3212}; {'label': 1, 'idx': 2086}; {'label': 1, 'idx': 2819}; {'label': 1, 'idx': 257}; {'label': 1, 'idx': 3183}; {'label': 1, 'idx': 2808}\n",
            "Filter: 100% 4088/4088 [00:00<00:00, 5620.34 examples/s]\n",
            "\tUse 32 train, 0 valid, and 1022 test examples.\n",
            "Via sampling with replacement old label distribution {0: 3885, 1: 203} to new {0: 32, 1: 32}\n",
            "\t1: {'label': 0, 'idx': 3746}; {'label': 1, 'idx': 289}; {'label': 1, 'idx': 2636}; {'label': 0, 'idx': 596}; {'label': 1, 'idx': 121}; {'label': 0, 'idx': 1157}; {'label': 0, 'idx': 2648}; {'label': 1, 'idx': 427}\n",
            "Filter: 100% 4088/4088 [00:00<00:00, 4205.48 examples/s]\n",
            "\tUse 64 train, 0 valid, and 1022 test examples.\n",
            "Via sampling with replacement old label distribution {0: 3885, 1: 203} to new {0: 64, 1: 64}\n",
            "\t1: {'label': 1, 'idx': 1554}; {'label': 1, 'idx': 3849}; {'label': 0, 'idx': 575}; {'label': 0, 'idx': 1156}; {'label': 0, 'idx': 3733}; {'label': 1, 'idx': 1550}; {'label': 1, 'idx': 4013}; {'label': 0, 'idx': 1171}\n",
            "Filter: 100% 4088/4088 [00:00<00:00, 4226.85 examples/s]\n",
            "\tUse 128 train, 0 valid, and 1022 test examples.\n",
            "Via sampling with replacement old label distribution {0: 3885, 1: 203} to new {0: 128, 1: 128}\n",
            "\t1: {'label': 1, 'idx': 289}; {'label': 0, 'idx': 1987}; {'label': 1, 'idx': 2357}; {'label': 1, 'idx': 612}; {'label': 1, 'idx': 3605}; {'label': 1, 'idx': 2407}; {'label': 1, 'idx': 3031}; {'label': 0, 'idx': 596}\n",
            "Filter: 100% 4088/4088 [00:02<00:00, 1848.38 examples/s]\n",
            "\tUse 256 train, 0 valid, and 1022 test examples.\n",
            "Via sampling with replacement old label distribution {0: 3885, 1: 203} to new {0: 256, 1: 256}\n",
            "\t1: {'label': 0, 'idx': 2373}; {'label': 1, 'idx': 3889}; {'label': 1, 'idx': 2819}; {'label': 0, 'idx': 1077}; {'label': 1, 'idx': 203}; {'label': 0, 'idx': 2290}; {'label': 0, 'idx': 479}; {'label': 0, 'idx': 2821}\n",
            "Filter: 100% 4088/4088 [00:01<00:00, 2323.12 examples/s]\n",
            "\tUse 512 train, 0 valid, and 1022 test examples.\n",
            "Flattening the indices: 100% 4088/4088 [00:00<00:00, 10106.99 examples/s]\n",
            "Flattening the indices: 100% 1022/1022 [00:00<00:00, 34363.56 examples/s]\n",
            "Via sampling with replacement old label distribution {0: 3897, 1: 191} to new {0: 2, 1: 2}\n",
            "\t32: {'label': 1, 'idx': 2747}; {'label': 0, 'idx': 2914}; {'label': 0, 'idx': 1654}; {'label': 1, 'idx': 1260}\n",
            "Filter: 100% 4088/4088 [00:01<00:00, 3261.48 examples/s]\n",
            "\tUse 4 train, 0 valid, and 1022 test examples.\n",
            "Manually reduced folds to 2 since this is maximum number of labeled examples.\n",
            "Via sampling with replacement old label distribution {0: 3897, 1: 191} to new {0: 4, 1: 4}\n",
            "\t32: {'label': 1, 'idx': 3190}; {'label': 0, 'idx': 1654}; {'label': 0, 'idx': 2914}; {'label': 0, 'idx': 1399}; {'label': 1, 'idx': 4076}; {'label': 1, 'idx': 1801}; {'label': 0, 'idx': 3084}; {'label': 1, 'idx': 1591}\n",
            "Filter: 100% 4088/4088 [00:00<00:00, 6011.36 examples/s]\n",
            "\tUse 8 train, 0 valid, and 1022 test examples.\n",
            "Via sampling with replacement old label distribution {0: 3897, 1: 191} to new {0: 8, 1: 8}\n",
            "\t32: {'label': 0, 'idx': 2914}; {'label': 1, 'idx': 2927}; {'label': 1, 'idx': 62}; {'label': 1, 'idx': 1454}; {'label': 0, 'idx': 2251}; {'label': 0, 'idx': 1654}; {'label': 0, 'idx': 1399}; {'label': 1, 'idx': 62}\n",
            "Filter: 100% 4088/4088 [00:00<00:00, 5582.64 examples/s]\n",
            "\tUse 16 train, 0 valid, and 1022 test examples.\n",
            "Via sampling with replacement old label distribution {0: 3897, 1: 191} to new {0: 16, 1: 16}\n",
            "\t32: {'label': 0, 'idx': 2914}; {'label': 0, 'idx': 1070}; {'label': 0, 'idx': 264}; {'label': 0, 'idx': 9}; {'label': 1, 'idx': 1345}; {'label': 1, 'idx': 62}; {'label': 1, 'idx': 1916}; {'label': 1, 'idx': 1076}\n",
            "Filter: 100% 4088/4088 [00:01<00:00, 3483.55 examples/s]\n",
            "\tUse 32 train, 0 valid, and 1022 test examples.\n",
            "Via sampling with replacement old label distribution {0: 3897, 1: 191} to new {0: 32, 1: 32}\n",
            "\t32: {'label': 0, 'idx': 1244}; {'label': 0, 'idx': 1319}; {'label': 1, 'idx': 3867}; {'label': 0, 'idx': 2796}; {'label': 1, 'idx': 1763}; {'label': 1, 'idx': 1106}; {'label': 1, 'idx': 3545}; {'label': 1, 'idx': 1219}\n",
            "Filter: 100% 4088/4088 [00:00<00:00, 5056.89 examples/s]\n",
            "\tUse 64 train, 0 valid, and 1022 test examples.\n",
            "Via sampling with replacement old label distribution {0: 3897, 1: 191} to new {0: 64, 1: 64}\n",
            "\t32: {'label': 0, 'idx': 1653}; {'label': 1, 'idx': 2338}; {'label': 0, 'idx': 3841}; {'label': 1, 'idx': 4037}; {'label': 1, 'idx': 1712}; {'label': 0, 'idx': 2756}; {'label': 0, 'idx': 591}; {'label': 0, 'idx': 2796}\n",
            "Filter: 100% 4088/4088 [00:01<00:00, 2454.74 examples/s]\n",
            "\tUse 128 train, 0 valid, and 1022 test examples.\n",
            "Via sampling with replacement old label distribution {0: 3897, 1: 191} to new {0: 128, 1: 128}\n",
            "\t32: {'label': 0, 'idx': 2397}; {'label': 1, 'idx': 3620}; {'label': 0, 'idx': 846}; {'label': 1, 'idx': 690}; {'label': 1, 'idx': 3803}; {'label': 0, 'idx': 4084}; {'label': 0, 'idx': 1759}; {'label': 1, 'idx': 2862}\n",
            "Filter: 100% 4088/4088 [00:01<00:00, 3287.39 examples/s]\n",
            "\tUse 256 train, 0 valid, and 1022 test examples.\n",
            "Via sampling with replacement old label distribution {0: 3897, 1: 191} to new {0: 256, 1: 256}\n",
            "\t32: {'label': 0, 'idx': 2457}; {'label': 1, 'idx': 75}; {'label': 1, 'idx': 2318}; {'label': 1, 'idx': 1816}; {'label': 0, 'idx': 330}; {'label': 1, 'idx': 1211}; {'label': 1, 'idx': 1106}; {'label': 1, 'idx': 1241}\n",
            "Filter: 100% 4088/4088 [00:01<00:00, 2145.26 examples/s]\n",
            "\tUse 512 train, 0 valid, and 1022 test examples.\n",
            "\n",
            "Row-wise results for shots: ['4', '8', '16', '32', '64', '128', '256', '512'].\n",
            "stroke: & $0.61_{.11}$   & $0.61_{.11}$   & $0.77_{.04}$   & $0.79_{.02}$   & $0.80_{.02}$   & $0.82_{.02}$   & $0.82_{.01}$   & $0.83_{.01}$   \n",
            "\n",
            "Averaged results for shots: ['4', '8', '16', '32', '64', '128', '256', '512'].\n",
            "(0.61, 0.00), (0.61, 0.00), (0.77, 0.00), (0.79, 0.00), (0.80, 0.00), (0.82, 0.00), (0.82, 0.00), (0.83, 0.00), "
          ]
        }
      ]
    },
    {
      "cell_type": "code",
      "source": [],
      "metadata": {
        "id": "SBBbrvPvIG7n"
      },
      "execution_count": null,
      "outputs": []
    }
  ]
}